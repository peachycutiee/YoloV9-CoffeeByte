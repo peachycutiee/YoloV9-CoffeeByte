{
  "cells": [
    {
      "cell_type": "markdown",
      "metadata": {
        "id": "view-in-github",
        "colab_type": "text"
      },
      "source": [
        "<a href=\"https://colab.research.google.com/github/peachycutiee/YoloV9-CoffeeByte/blob/main/Copy_of_CoffeeByte.ipynb\" target=\"_parent\"><img src=\"https://colab.research.google.com/assets/colab-badge.svg\" alt=\"Open In Colab\"/></a>"
      ]
    },
    {
      "cell_type": "markdown",
      "metadata": {
        "id": "JXyGLASHLz-m"
      },
      "source": [
        "# CoffeeByte"
      ]
    },
    {
      "cell_type": "markdown",
      "metadata": {
        "id": "Xl0nKhmSMH2y"
      },
      "source": [
        "## Initialization\n",
        "\n",
        "Let's make sure that we have access to GPU. We can use `nvidia-smi` command to do that. In case of any problems navigate to `Edit` -> `Notebook settings` -> `Hardware accelerator`, set it to `GPU`, and then click `Save`."
      ]
    },
    {
      "cell_type": "code",
      "execution_count": null,
      "metadata": {
        "id": "4MVLaAUBMUJ0",
        "colab": {
          "base_uri": "https://localhost:8080/"
        },
        "outputId": "96694cd1-b908-49cd-8933-b4e3e4e7602d"
      },
      "outputs": [
        {
          "output_type": "stream",
          "name": "stdout",
          "text": [
            "/bin/bash: line 1: nvidia-smi: command not found\n"
          ]
        }
      ],
      "source": [
        "!nvidia-smi"
      ]
    },
    {
      "cell_type": "markdown",
      "metadata": {
        "id": "o0-V_hoFORcv"
      },
      "source": [
        "**NOTE:** To make it easier for us to manage datasets, images and models we create a `HOME` constant."
      ]
    },
    {
      "cell_type": "code",
      "execution_count": null,
      "metadata": {
        "id": "JDVk3PssR8ca",
        "colab": {
          "base_uri": "https://localhost:8080/"
        },
        "outputId": "693b570d-5145-4f18-8c92-d87dfab2a19c"
      },
      "outputs": [
        {
          "output_type": "stream",
          "name": "stdout",
          "text": [
            "Requirement already satisfied: Pillow==9.5.0 in /usr/local/lib/python3.10/dist-packages (9.5.0)\n"
          ]
        }
      ],
      "source": [
        "pip install Pillow==9.5.0"
      ]
    },
    {
      "cell_type": "code",
      "execution_count": null,
      "metadata": {
        "id": "flh50u_rOLD3",
        "colab": {
          "base_uri": "https://localhost:8080/"
        },
        "outputId": "17de85ad-60e8-41a2-c642-6379c0f5c8db"
      },
      "outputs": [
        {
          "output_type": "stream",
          "name": "stdout",
          "text": [
            "/content\n"
          ]
        }
      ],
      "source": [
        "import os\n",
        "HOME = os.getcwd()\n",
        "print(HOME)"
      ]
    },
    {
      "cell_type": "markdown",
      "metadata": {
        "id": "fZJO-7y0NTnj"
      },
      "source": [
        "## Clone and Install\n",
        "\n",
        "**NOTE:** YOLOv9 is very new. At the moment, we recommend using a fork of the main repository. The `detect.py` script contains a bug that prevents inference. This bug is patched in the fork."
      ]
    },
    {
      "cell_type": "code",
      "execution_count": null,
      "metadata": {
        "id": "kPgsL81sOVBQ",
        "colab": {
          "base_uri": "https://localhost:8080/"
        },
        "outputId": "a60c0ce2-9b13-46a7-c144-8e6fd8436a64"
      },
      "outputs": [
        {
          "output_type": "stream",
          "name": "stdout",
          "text": [
            "Cloning into 'yolov9'...\n",
            "remote: Enumerating objects: 325, done.\u001b[K\n",
            "remote: Total 325 (delta 0), reused 0 (delta 0), pack-reused 325 (from 1)\u001b[K\n",
            "Receiving objects: 100% (325/325), 2.25 MiB | 26.44 MiB/s, done.\n",
            "Resolving deltas: 100% (162/162), done.\n",
            "/content/yolov9\n",
            "\u001b[2K   \u001b[90m━━━━━━━━━━━━━━━━━━━━━━━━━━━━━━━━━━━━━━━━\u001b[0m \u001b[32m1.6/1.6 MB\u001b[0m \u001b[31m27.0 MB/s\u001b[0m eta \u001b[36m0:00:00\u001b[0m\n",
            "\u001b[?25h"
          ]
        }
      ],
      "source": [
        "!git clone https://github.com/SkalskiP/yolov9.git\n",
        "%cd yolov9\n",
        "!pip install -r requirements.txt -q"
      ]
    },
    {
      "cell_type": "markdown",
      "metadata": {
        "id": "_o-iVAeSOWs1"
      },
      "source": [
        "**NOTE:** Let's install the [`roboflow`](https://pypi.org/project/roboflow) package, which we will use to download our dataset from [Roboflow Universe](https://universe.roboflow.com/)."
      ]
    },
    {
      "cell_type": "code",
      "execution_count": null,
      "metadata": {
        "id": "SRdV5oROOXoH",
        "colab": {
          "base_uri": "https://localhost:8080/"
        },
        "outputId": "e6265c30-539d-4cb9-b6d4-2f738419fe1d"
      },
      "outputs": [
        {
          "output_type": "stream",
          "name": "stdout",
          "text": [
            "\u001b[?25l   \u001b[90m━━━━━━━━━━━━━━━━━━━━━━━━━━━━━━━━━━━━━━━━\u001b[0m \u001b[32m0.0/80.9 kB\u001b[0m \u001b[31m?\u001b[0m eta \u001b[36m-:--:--\u001b[0m\r\u001b[2K   \u001b[90m━━━━━━━━━━━━━━━━━━━━━━━━━━━━━━━━━━━━━━━━\u001b[0m \u001b[32m80.9/80.9 kB\u001b[0m \u001b[31m4.1 MB/s\u001b[0m eta \u001b[36m0:00:00\u001b[0m\n",
            "\u001b[?25h\u001b[?25l   \u001b[90m━━━━━━━━━━━━━━━━━━━━━━━━━━━━━━━━━━━━━━━━\u001b[0m \u001b[32m0.0/66.8 kB\u001b[0m \u001b[31m?\u001b[0m eta \u001b[36m-:--:--\u001b[0m\r\u001b[2K   \u001b[90m━━━━━━━━━━━━━━━━━━━━━━━━━━━━━━━━━━━━━━━━\u001b[0m \u001b[32m66.8/66.8 kB\u001b[0m \u001b[31m4.7 MB/s\u001b[0m eta \u001b[36m0:00:00\u001b[0m\n",
            "\u001b[?25h"
          ]
        }
      ],
      "source": [
        "!pip install -q roboflow"
      ]
    },
    {
      "cell_type": "markdown",
      "metadata": {
        "id": "0ySa0qReNcFL"
      },
      "source": [
        "## Download Model Weights\n",
        "\n",
        "**NOTE:** In the YOLOv9 paper, versions `yolov9-s` and `yolov9-m` are also mentioned, but the weights for these models are not yet available in the YOLOv9 [repository](https://github.com/WongKinYiu/yolov9)."
      ]
    },
    {
      "cell_type": "code",
      "execution_count": null,
      "metadata": {
        "id": "uhKParJMF_Ch"
      },
      "outputs": [],
      "source": [
        "!wget -P {HOME}/weights -q https://github.com/WongKinYiu/yolov9/releases/download/v0.1/yolov9-c.pt\n",
        "!wget -P {HOME}/weights -q https://github.com/WongKinYiu/yolov9/releases/download/v0.1/yolov9-e.pt\n",
        "!wget -P {HOME}/weights -q https://github.com/WongKinYiu/yolov9/releases/download/v0.1/gelan-c.pt\n",
        "!wget -P {HOME}/weights -q https://github.com/WongKinYiu/yolov9/releases/download/v0.1/gelan-e.pt"
      ]
    },
    {
      "cell_type": "code",
      "execution_count": null,
      "metadata": {
        "id": "DYYwt0yzOe5l",
        "colab": {
          "base_uri": "https://localhost:8080/"
        },
        "outputId": "252114f9-afdb-435f-a569-194d134ac684"
      },
      "outputs": [
        {
          "output_type": "stream",
          "name": "stdout",
          "text": [
            "total 402440\n",
            "drwxr-xr-x 2 root root      4096 Nov 29 14:55 .\n",
            "drwxr-xr-x 1 root root      4096 Nov 29 14:55 ..\n",
            "-rw-r--r-- 1 root root  51508261 Feb 18  2024 gelan-c.pt\n",
            "-rw-r--r-- 1 root root 117203713 Feb 18  2024 gelan-e.pt\n",
            "-rw-r--r-- 1 root root 103153312 Feb 18  2024 yolov9-c.pt\n",
            "-rw-r--r-- 1 root root 140217688 Feb 18  2024 yolov9-e.pt\n"
          ]
        }
      ],
      "source": [
        "!ls -la {HOME}/weights"
      ]
    },
    {
      "cell_type": "markdown",
      "metadata": {
        "id": "e7UmjcIlNh2c"
      },
      "source": [
        "## Authenticate and Download the Dataset\n",
        "\n",
        "**NOTE:** The dataset must be saved inside the `{HOME}/yolov9` directory, otherwise, the training will not succeed."
      ]
    },
    {
      "cell_type": "code",
      "execution_count": null,
      "metadata": {
        "id": "S88vjc0POh4u",
        "colab": {
          "base_uri": "https://localhost:8080/"
        },
        "outputId": "532db464-3bba-499b-e8fe-5c1c6194d3a8"
      },
      "outputs": [
        {
          "output_type": "stream",
          "name": "stdout",
          "text": [
            "/content/yolov9\n"
          ]
        }
      ],
      "source": [
        "%cd {HOME}/yolov9"
      ]
    },
    {
      "cell_type": "code",
      "execution_count": null,
      "metadata": {
        "id": "WcZRAr_vOkIo",
        "colab": {
          "base_uri": "https://localhost:8080/"
        },
        "outputId": "e9b5fbb2-bee3-42ef-b896-313b23e1932c"
      },
      "outputs": [
        {
          "output_type": "stream",
          "name": "stdout",
          "text": [
            "loading Roboflow workspace...\n",
            "loading Roboflow project...\n"
          ]
        }
      ],
      "source": [
        "\n",
        "\n",
        "\n",
        "from roboflow import Roboflow\n",
        "rf = Roboflow(api_key=\"q6cFEnp8I1cJEDtWTU3j\")\n",
        "project = rf.workspace(\"coffeebyte\").project(\"coffeebyte\")\n",
        "version = project.version(2)\n",
        "dataset = version.download(\"yolov9\")\n",
        "\n"
      ]
    },
    {
      "cell_type": "markdown",
      "metadata": {
        "id": "Q3AcFOJTNnW7"
      },
      "source": [
        "## Train Custom Model"
      ]
    },
    {
      "cell_type": "code",
      "execution_count": null,
      "metadata": {
        "id": "Q8sjpZ1Iplm9"
      },
      "outputs": [],
      "source": [
        "import os\n",
        "\n",
        "os.environ['KMP_DUPLICATE_LIB_OK']='True'"
      ]
    },
    {
      "cell_type": "code",
      "execution_count": null,
      "metadata": {
        "id": "5eO9wcU8OrYO",
        "colab": {
          "base_uri": "https://localhost:8080/"
        },
        "outputId": "8504032e-89f5-4a58-f82e-eb35287b2325"
      },
      "outputs": [
        {
          "output_type": "stream",
          "name": "stdout",
          "text": [
            "/content/yolov9\n",
            "2024-11-29 14:58:21.047847: E external/local_xla/xla/stream_executor/cuda/cuda_fft.cc:485] Unable to register cuFFT factory: Attempting to register factory for plugin cuFFT when one has already been registered\n",
            "2024-11-29 14:58:21.079559: E external/local_xla/xla/stream_executor/cuda/cuda_dnn.cc:8454] Unable to register cuDNN factory: Attempting to register factory for plugin cuDNN when one has already been registered\n",
            "2024-11-29 14:58:21.086567: E external/local_xla/xla/stream_executor/cuda/cuda_blas.cc:1452] Unable to register cuBLAS factory: Attempting to register factory for plugin cuBLAS when one has already been registered\n",
            "2024-11-29 14:58:21.103121: I tensorflow/core/platform/cpu_feature_guard.cc:210] This TensorFlow binary is optimized to use available CPU instructions in performance-critical operations.\n",
            "To enable the following instructions: AVX2 FMA, in other operations, rebuild TensorFlow with the appropriate compiler flags.\n",
            "2024-11-29 14:58:22.566880: W tensorflow/compiler/tf2tensorrt/utils/py_utils.cc:38] TF-TRT Warning: Could not find TensorRT\n",
            "\u001b[34m\u001b[1mwandb\u001b[0m: Using wandb-core as the SDK backend.  Please refer to https://wandb.me/wandb-core for more information.\n",
            "\u001b[34m\u001b[1mwandb\u001b[0m: (1) Create a W&B account\n",
            "\u001b[34m\u001b[1mwandb\u001b[0m: (2) Use an existing W&B account\n",
            "\u001b[34m\u001b[1mwandb\u001b[0m: (3) Don't visualize my results\n",
            "\u001b[34m\u001b[1mwandb\u001b[0m: Enter your choice: (30 second timeout) \n",
            "\u001b[34m\u001b[1mwandb\u001b[0m: W&B disabled due to login timeout.\n",
            "\u001b[34m\u001b[1mtrain: \u001b[0mweights=/content/weights/gelan-c.pt, cfg=models/detect/gelan-c.yaml, data=/content/yolov9/CoffeeByte-2/data.yaml, hyp=hyp.scratch-high.yaml, epochs=150, batch_size=16, imgsz=640, rect=False, resume=False, nosave=False, noval=False, noautoanchor=False, noplots=False, evolve=None, bucket=, cache=None, image_weights=False, device=0, multi_scale=False, single_cls=False, optimizer=SGD, sync_bn=False, workers=8, project=runs/train, name=exp, exist_ok=False, quad=False, cos_lr=False, flat_cos_lr=False, fixed_lr=False, label_smoothing=0.0, patience=100, freeze=[0], save_period=-1, seed=0, local_rank=-1, min_items=0, close_mosaic=15, entity=None, upload_dataset=False, bbox_interval=-1, artifact_alias=latest\n",
            "Traceback (most recent call last):\n",
            "  File \"/content/yolov9/train.py\", line 634, in <module>\n",
            "    main(opt)\n",
            "  File \"/content/yolov9/train.py\", line 514, in main\n",
            "    device = select_device(opt.device, batch_size=opt.batch_size)\n",
            "  File \"/content/yolov9/utils/torch_utils.py\", line 114, in select_device\n",
            "    assert torch.cuda.is_available() and torch.cuda.device_count() >= len(device.replace(',', '')), \\\n",
            "AssertionError: Invalid CUDA '--device 0' requested, use '--device cpu' or pass valid CUDA device(s)\n"
          ]
        }
      ],
      "source": [
        "%cd {HOME}/yolov9\n",
        "\n",
        "!python train.py \\\n",
        "--batch 16 --epochs 150 --img 640 --device 0 --min-items 0 --close-mosaic 15 \\\n",
        "--data {dataset.location}/data.yaml \\\n",
        "--weights {HOME}/weights/gelan-c.pt \\\n",
        "--cfg models/detect/gelan-c.yaml \\\n",
        "--hyp hyp.scratch-high.yaml"
      ]
    },
    {
      "cell_type": "markdown",
      "metadata": {
        "id": "6vaS694_NvoA"
      },
      "source": [
        "## Examining Training Results\n",
        "\n",
        "**NOTE:** By default, the results of each subsequent training sessions are saved in `{HOME}/yolov9/runs/train/`, in directories named `exp`, `exp2`, `exp3`, ... You can override this behavior by using the `--name` parameter."
      ]
    },
    {
      "cell_type": "code",
      "execution_count": null,
      "metadata": {
        "id": "raMw69_i5qLU"
      },
      "outputs": [],
      "source": [
        "!ls {HOME}/yolov9/runs/train/exp/"
      ]
    },
    {
      "cell_type": "code",
      "execution_count": null,
      "metadata": {
        "id": "PQRcFuqn9OTG"
      },
      "outputs": [],
      "source": [
        "from IPython.display import Image\n",
        "\n",
        "Image(filename=f\"{HOME}/yolov9/runs/train/exp/results.png\", width=1000)"
      ]
    },
    {
      "cell_type": "code",
      "execution_count": null,
      "metadata": {
        "id": "izo3StOI9Q77"
      },
      "outputs": [],
      "source": [
        "from IPython.display import Image\n",
        "\n",
        "Image(filename=f\"{HOME}/yolov9/runs/train/exp/confusion_matrix.png\", width=1000)"
      ]
    },
    {
      "cell_type": "code",
      "execution_count": null,
      "metadata": {
        "id": "bAADapbX9Wr5"
      },
      "outputs": [],
      "source": [
        "from IPython.display import Image\n",
        "\n",
        "Image(filename=f\"{HOME}/yolov9/runs/train/exp/val_batch0_pred.jpg\", width=1000)"
      ]
    },
    {
      "cell_type": "markdown",
      "metadata": {
        "id": "zMOvsQFtNzmt"
      },
      "source": [
        "## Validate Custom Model"
      ]
    },
    {
      "cell_type": "code",
      "execution_count": null,
      "metadata": {
        "id": "1BZnVVQqB63W"
      },
      "outputs": [],
      "source": [
        "  %cd {HOME}/yolov9\n",
        "\n",
        "  !python val.py \\\n",
        "  --img 640 --batch 32 --conf 0.001 --iou 0.7 --device 0 \\\n",
        "  --data {dataset.location}/data.yaml \\\n",
        "  --weights {HOME}/yolov9/runs/train/exp/weights/best.pt"
      ]
    },
    {
      "cell_type": "code",
      "source": [
        "from IPython.display import Image, display\n",
        "\n",
        "# Set the directory path\n",
        "val_results_path = \"/content/yolov9/runs/val/exp\"\n",
        "\n",
        "# Visualize Precision-Recall Curve\n",
        "display(Image(filename=f\"{val_results_path}/PR_curve.png\", width=800))"
      ],
      "metadata": {
        "id": "246UB-Lleclc"
      },
      "execution_count": null,
      "outputs": []
    },
    {
      "cell_type": "code",
      "source": [
        "\n",
        "# Visualize Confusion Matrix\n",
        "display(Image(filename=f\"{val_results_path}/confusion_matrix.png\", width=800))"
      ],
      "metadata": {
        "id": "YBufi-1SelRO"
      },
      "execution_count": null,
      "outputs": []
    },
    {
      "cell_type": "markdown",
      "metadata": {
        "id": "ifLCdnRiN378"
      },
      "source": [
        "## Inference with Custom Model"
      ]
    },
    {
      "cell_type": "code",
      "execution_count": null,
      "metadata": {
        "id": "y9lMyDVOCLnf"
      },
      "outputs": [],
      "source": [
        "!python detect.py \\\n",
        "--img 640 --conf 0.1 --device 0 \\\n",
        "--weights {HOME}/yolov9/runs/train/exp/weights/best.pt \\\n",
        "--source {dataset.location}/test/images"
      ]
    },
    {
      "cell_type": "markdown",
      "metadata": {
        "id": "qJTRL_WPN8jD"
      },
      "source": [
        "## Deploy YOLOv9 Model with Inteference\n",
        "\n",
        "**NOTE:** To deploy the model and display inference results, we will need two additional packages - [`inference`](https://pypi.org/project/inference) and [`supervision`](https://pypi.org/project/supervision). Let's install and import them!"
      ]
    },
    {
      "cell_type": "code",
      "execution_count": null,
      "metadata": {
        "id": "kAqeJuqjnyd4"
      },
      "outputs": [],
      "source": [
        "!pip install -q inference supervision --use-deprecated=legacy-resolver"
      ]
    },
    {
      "cell_type": "code",
      "execution_count": null,
      "metadata": {
        "id": "doOTUSsHn4Le"
      },
      "outputs": [],
      "source": [
        "import cv2\n",
        "import random\n",
        "import getpass\n",
        "\n",
        "import supervision as sv\n",
        "\n",
        "from inference import get_model\n",
        "\n",
        "%matplotlib inline"
      ]
    },
    {
      "cell_type": "code",
      "execution_count": null,
      "metadata": {
        "id": "IhSabQG0o54a"
      },
      "outputs": [],
      "source": [
        "version.deploy(model_type=\"yolov9\", model_path=f\"{HOME}/yolov9/runs/train/exp\")"
      ]
    }
  ],
  "metadata": {
    "colab": {
      "provenance": [],
      "include_colab_link": true
    },
    "kernelspec": {
      "display_name": "Python 3",
      "name": "python3"
    },
    "language_info": {
      "name": "python"
    }
  },
  "nbformat": 4,
  "nbformat_minor": 0
}